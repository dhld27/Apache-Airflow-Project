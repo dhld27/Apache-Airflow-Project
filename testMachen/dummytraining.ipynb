{
 "cells": [
  {
   "cell_type": "code",
   "execution_count": 1,
   "metadata": {},
   "outputs": [],
   "source": [
    "import pandas as pd"
   ]
  },
  {
   "cell_type": "code",
   "execution_count": 4,
   "metadata": {},
   "outputs": [
    {
     "name": "stdout",
     "output_type": "stream",
     "text": [
      "   state  passings\n",
      "0  Happy         3\n",
      "1    Mid         2\n",
      "2    Sad         1\n"
     ]
    }
   ],
   "source": [
    "df  = {\n",
    "  'state': [\"Happy\", \"Mid\", \"Sad\"],\n",
    "  'passings': [3, 2, 1]\n",
    "}\n",
    "\n",
    "myvar = pd.DataFrame(df)\n",
    "\n",
    "print(myvar)"
   ]
  },
  {
   "cell_type": "code",
   "execution_count": null,
   "metadata": {},
   "outputs": [],
   "source": [
    "something = []\n",
    "\n",
    "for i in df['state']:\n",
    "    if i >= 2:\n",
    "        something.append(\"I'm Happy\")\n",
    "    elif i == 2:\n",
    "        something.append(\"I'm Good\")\n",
    "    else:\n",
    "        something.append(\"I ain't Good\")\n",
    "\n",
    " \n"
   ]
  }
 ],
 "metadata": {
  "kernelspec": {
   "display_name": "BSD-005",
   "language": "python",
   "name": "python3"
  },
  "language_info": {
   "codemirror_mode": {
    "name": "ipython",
    "version": 3
   },
   "file_extension": ".py",
   "mimetype": "text/x-python",
   "name": "python",
   "nbconvert_exporter": "python",
   "pygments_lexer": "ipython3",
   "version": "3.9.18"
  }
 },
 "nbformat": 4,
 "nbformat_minor": 2
}
